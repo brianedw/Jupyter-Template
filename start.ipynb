{
 "cells": [
  {
   "cell_type": "markdown",
   "metadata": {
    "tags": [],
    "toc-hr-collapsed": true
   },
   "source": [
    "# Setup"
   ]
  },
  {
   "cell_type": "markdown",
   "metadata": {
    "tags": []
   },
   "source": [
    "## Stock Imports"
   ]
  },
  {
   "cell_type": "markdown",
   "metadata": {
    "tags": []
   },
   "source": [
    "### IDE Stuff"
   ]
  },
  {
   "cell_type": "markdown",
   "metadata": {},
   "source": [
    "Jupyter Plugins that make things much nicer:"
   ]
  },
  {
   "cell_type": "code",
   "execution_count": null,
   "metadata": {},
   "outputs": [],
   "source": [
    "# * Collapsible_Headings\n",
    "# * hide_code\n",
    "# * jupyterlab-code-cell-collapser\n",
    "# * jupyterlab_templates"
   ]
  },
  {
   "cell_type": "markdown",
   "metadata": {
    "heading_collapsed": "true",
    "tags": []
   },
   "source": [
    "#### Installing New Packages"
   ]
  },
  {
   "cell_type": "markdown",
   "metadata": {},
   "source": [
    "Depending on how many installations of Python you have on your system, doing a simple `conda install` or `pip install` will put the module in the wrong installation.  This makes sure it lands in the installation corresponding to the current notebook."
   ]
  },
  {
   "cell_type": "code",
   "execution_count": null,
   "metadata": {},
   "outputs": [],
   "source": [
    "import shapely"
   ]
  },
  {
   "cell_type": "code",
   "execution_count": null,
   "metadata": {},
   "outputs": [],
   "source": [
    "# Code for installing packages\n",
    "# !conda install --yes --prefix {sys.prefix} PACKAGE_NAME\n",
    "# !{sys.executable} -m pip install PACKAGE_NAME\n",
    "# !conda install -c conda-forge firefox geckodriver"
   ]
  },
  {
   "cell_type": "markdown",
   "metadata": {
    "heading_collapsed": "true",
    "tags": []
   },
   "source": [
    "#### Notebook Customization"
   ]
  },
  {
   "cell_type": "markdown",
   "metadata": {},
   "source": [
    "This will change the fonts in Anaconda JupyterLab and Notebook.  I find the rendered mardown heading fonts (H1, H2, H3, etc) to be too similar.  This will alternate between italicized and normal fonts for headings.  Additionally, it adds a small indent that grows with heading level.  H1 is centered.\n",
    "\n",
    "Note, this cell appears to break the rendering of a Jupyter Notebook on GitHub.  It also appears to have no effect on Jupyter Notebook rendering in VSCode.  Therefore, I will comment it out."
   ]
  },
  {
   "cell_type": "code",
   "execution_count": null,
   "metadata": {},
   "outputs": [],
   "source": [
    "# mport IPython\n",
    "# css_str = \"\"\"\n",
    "# <link rel=\"preconnect\" href=\"https://fonts.gstatic.com\">\n",
    "\n",
    "# <link href=\"https://fonts.googleapis.com/css2?family=Cormorant+Garamond:wght@300;400;600&family=Playfair+Display+SC&display=swap\" rel=\"stylesheet\">\n",
    "# <link rel=\"stylesheet\" href=\"https://fonts.googleapis.com/css?family=Lora\">\n",
    "# <link href=\"https://fonts.googleapis.com/css2?family=IM+Fell+Double+Pica:ital@1&display=swap\" rel=\"stylesheet\">\n",
    "#     <style>\n",
    "# h1 { color: #7c795d; font-family: 'Playfair Display SC', serif; text-indent: 00px; text-align: center;}\n",
    "# h2 { color: #7c795d; font-family: 'Lora', serif;                text-indent: 00px; text-align: left; }\n",
    "# h3 { color: #7c795d; font-family: 'IM Fell Double Pica', serif; text-indent: 15px; text-align: left; }\n",
    "# h4 { color: #7c795d; font-family: 'Lora', Arial, serif;         text-indent: 30px; text-align: left}\n",
    "# h5 { color: #71a832; font-family: 'IM Fell Double Pica', serif; text-indent: 45px; text-align: left}\n",
    "\n",
    "# \"\"\"\n",
    "# IPython.display.HTML(css_str)"
   ]
  },
  {
   "cell_type": "markdown",
   "metadata": {},
   "source": [
    "Allows for changes in packages to be detected and immediately incorporated into the present notebook without resetting the kernel.  This works sometimes, but is by no means bulletproof."
   ]
  },
  {
   "cell_type": "code",
   "execution_count": null,
   "metadata": {},
   "outputs": [],
   "source": [
    "%load_ext autoreload\n",
    "%autoreload 2"
   ]
  },
  {
   "cell_type": "markdown",
   "metadata": {},
   "source": [
    "By default, Jupyter returns the last expression (and won't return this if it is a statement).  Sometimes we want different behavior that is more similar to Mathematica.\n",
    "\n",
    "This appears to have no effect in VSCode."
   ]
  },
  {
   "cell_type": "code",
   "execution_count": null,
   "metadata": {},
   "outputs": [],
   "source": [
    "from IPython.core.interactiveshell import InteractiveShell\n",
    "\n",
    "# pretty print only the last output of the cell\n",
    "InteractiveShell.ast_node_interactivity = 'last_expr' # ['all', 'last', 'last_expr', 'none', 'last_expr_or_assign']"
   ]
  },
  {
   "cell_type": "code",
   "execution_count": null,
   "metadata": {},
   "outputs": [],
   "source": [
    "x = 2\n",
    "y = 3"
   ]
  },
  {
   "cell_type": "code",
   "execution_count": null,
   "metadata": {},
   "outputs": [],
   "source": [
    "x"
   ]
  },
  {
   "cell_type": "code",
   "execution_count": null,
   "metadata": {},
   "outputs": [],
   "source": [
    "x = 2"
   ]
  },
  {
   "cell_type": "code",
   "execution_count": null,
   "metadata": {},
   "outputs": [],
   "source": [
    "del x, y"
   ]
  },
  {
   "cell_type": "markdown",
   "metadata": {
    "tags": []
   },
   "source": [
    "### Python Libraries"
   ]
  },
  {
   "cell_type": "markdown",
   "metadata": {},
   "source": [
    "Standard Python imports"
   ]
  },
  {
   "cell_type": "code",
   "execution_count": null,
   "metadata": {},
   "outputs": [],
   "source": [
    "import os, sys, time, glob"
   ]
  },
  {
   "cell_type": "markdown",
   "metadata": {},
   "source": [
    "It is a good idea to record the starting working directory before it gets changed around.  Note that this can be problematic depending on how you open the notebook, but it works most of the time."
   ]
  },
  {
   "cell_type": "code",
   "execution_count": null,
   "metadata": {},
   "outputs": [],
   "source": [
    "baseDir = os.getcwd()\n",
    "baseDir"
   ]
  },
  {
   "cell_type": "markdown",
   "metadata": {},
   "source": [
    "It is also nice to know if what is running is a notebook, or a python script generated from the notebook."
   ]
  },
  {
   "cell_type": "code",
   "execution_count": null,
   "metadata": {},
   "outputs": [],
   "source": [
    "mainQ = (__name__ == '__main__')\n",
    "if mainQ:\n",
    "    print(\"This is the main file\")"
   ]
  },
  {
   "cell_type": "markdown",
   "metadata": {},
   "source": [
    "JupyterLab doesn't support navigation to other drives.  This is a handy trick to make folders in other drives \"appear\" as if they're local.  It even works on network shares.  \n",
    "\n",
    "PowerShell Command to Map network drives:\n",
    "```powershell\n",
    "New-Item -ItemType SymbolicLink -Path \"c:\\users\\brianedw\\group_share\" -Target \"\\\\158.130.53.35\\_Group Share\"\n",
    "```\n"
   ]
  },
  {
   "cell_type": "markdown",
   "metadata": {
    "tags": []
   },
   "source": [
    "### Notebook Interactivity"
   ]
  },
  {
   "cell_type": "markdown",
   "metadata": {},
   "source": [
    "Adds a nice progress bar for visualizing a loop iterator.  See snippets."
   ]
  },
  {
   "cell_type": "code",
   "execution_count": null,
   "metadata": {},
   "outputs": [],
   "source": [
    "from tqdm import tqdm"
   ]
  },
  {
   "cell_type": "code",
   "execution_count": null,
   "metadata": {},
   "outputs": [],
   "source": [
    "if mainQ and False:\n",
    "    for i in tqdm(range(100000000)):\n",
    "        pass"
   ]
  },
  {
   "cell_type": "markdown",
   "metadata": {},
   "source": [
    "Useful for monitoring a calculation's progress."
   ]
  },
  {
   "cell_type": "code",
   "execution_count": null,
   "metadata": {},
   "outputs": [],
   "source": [
    "from IPython.display import clear_output"
   ]
  },
  {
   "cell_type": "code",
   "execution_count": null,
   "metadata": {},
   "outputs": [],
   "source": [
    "# for i in range(5):\n",
    "#     print(i)\n",
    "#     time.sleep(0.1)\n",
    "#     clear_output(wait=True)\n",
    "\n",
    "# del(i)"
   ]
  },
  {
   "cell_type": "markdown",
   "metadata": {},
   "source": [
    "A nice sound to play when long calculations are completed."
   ]
  },
  {
   "cell_type": "code",
   "execution_count": null,
   "metadata": {},
   "outputs": [],
   "source": [
    "import winsound\n",
    "\n",
    "def soundDone():\n",
    "    soundfile = \"C:/Windows/Media/ring01.wav\"\n",
    "    winsound.PlaySound(soundfile, winsound.SND_FILENAME | winsound.SND_ASYNC)"
   ]
  },
  {
   "cell_type": "code",
   "execution_count": null,
   "metadata": {},
   "outputs": [],
   "source": [
    "# soundDone()"
   ]
  },
  {
   "cell_type": "markdown",
   "metadata": {
    "tags": []
   },
   "source": [
    "### Functional Programming"
   ]
  },
  {
   "cell_type": "markdown",
   "metadata": {},
   "source": [
    "It is very common in data analysis to run data through a series of transformations, often called a \"pipe\".  The advantage of this is the arguments are contained with the functions and it is more readable (once you get used to it!).  For instance, in `Mathematica`, \n",
    "\n",
    "`H(#, 4)& @ G(#,3)& @ F(#,2)& @ 1  =>  H(G(F(1,2),3),4).`\n",
    "\n",
    "In the former, it is clear that `3` belongs to `G`.  In the latter, you need to count parenthesis.  This typically makes use of \"lambda functions\" or \"pure functions\".  As a primarily Object Oriented Programming (OOP) language, Python doesn't natively support much of this Functional paradigm.  However, it does treat functions as objects which can be manipulated.  Given the utility of Functional Programming, there are several packages that attempt to bring it into the language, each with varying success."
   ]
  },
  {
   "cell_type": "code",
   "execution_count": null,
   "metadata": {},
   "outputs": [],
   "source": [
    "# from pipetools import where, X, pipe\n",
    "# 10 > (pipe | range | where(X % 2) | sum)"
   ]
  },
  {
   "cell_type": "code",
   "execution_count": null,
   "metadata": {},
   "outputs": [],
   "source": [
    "# from pipey import Pipeable\n",
    "\n",
    "# Print = Pipeable(print)\n",
    "# @Pipeable\n",
    "# def add(a,b): return a + b\n",
    "# @Pipeable\n",
    "# def sqr(b): return b*b\n",
    "\n",
    "# np.array([3, 4]) >> sqr >> add(1000)"
   ]
  },
  {
   "cell_type": "markdown",
   "metadata": {},
   "source": [
    "The `toolz` library has a lot of great functions for performing common operations on iterables, functions, and dictionaries."
   ]
  },
  {
   "cell_type": "code",
   "execution_count": null,
   "metadata": {},
   "outputs": [],
   "source": [
    "from toolz.itertoolz import (concat, partition, interleave)\n",
    "from toolz.functoolz import (curry, pipe, thread_first)\n",
    "# from toolz.dicttoolz import ()"
   ]
  },
  {
   "cell_type": "markdown",
   "metadata": {},
   "source": [
    "Below is you can see how to employ a functional style data transformation using some trivial functions."
   ]
  },
  {
   "cell_type": "code",
   "execution_count": null,
   "metadata": {},
   "outputs": [],
   "source": [
    "@curry\n",
    "def add(x, y): return x + y\n",
    "@curry\n",
    "def pow(x, y): return x**y\n",
    "thread_first(1, add(y=4), pow(y=2))  # pow(add(1, 4), 2)"
   ]
  },
  {
   "cell_type": "code",
   "execution_count": null,
   "metadata": {},
   "outputs": [],
   "source": [
    "from mini_lambda import InputVar, as_function"
   ]
  },
  {
   "cell_type": "code",
   "execution_count": null,
   "metadata": {},
   "outputs": [],
   "source": [
    "# _ = as_function\n",
    "# X = InputVar('X')\n",
    "\n",
    "# _(X+3)(10)"
   ]
  },
  {
   "cell_type": "code",
   "execution_count": null,
   "metadata": {},
   "outputs": [],
   "source": [
    "# y1 = thread_first(1, add(y=4), _(pow(x=2, y=X)))  # pow(2, add(1, 4))\n",
    "# y2 = thread_first(1, _(X+4), _(2**X))  # pow(add(1, 4), 2)\n",
    "# print(y1, y2)"
   ]
  },
  {
   "cell_type": "code",
   "execution_count": null,
   "metadata": {},
   "outputs": [],
   "source": [
    "# del(add, pow, X, _)"
   ]
  },
  {
   "cell_type": "markdown",
   "metadata": {
    "tags": []
   },
   "source": [
    "### Scientific Programming"
   ]
  },
  {
   "cell_type": "code",
   "execution_count": null,
   "metadata": {},
   "outputs": [],
   "source": [
    "from math import sin, cos, radians, degrees, tan, sinh, cosh, tanh, exp, pi, tau"
   ]
  },
  {
   "cell_type": "code",
   "execution_count": null,
   "metadata": {},
   "outputs": [],
   "source": [
    "deg = radians(1)    # so that we can refer to 90*deg\n",
    "I = 1j              # potentially neater imaginary nomenclature."
   ]
  },
  {
   "cell_type": "code",
   "execution_count": null,
   "metadata": {},
   "outputs": [],
   "source": [
    "import numpy as np  # Does high performance dense array operations\n",
    "np.set_printoptions(edgeitems=30, linewidth=100000,\n",
    "                    formatter=dict(float=lambda x: \"%.3g\" % x))"
   ]
  },
  {
   "cell_type": "markdown",
   "metadata": {},
   "source": [
    "Quoting the SciPy website:\n",
    ">SciPy provides algorithms for optimization, integration, interpolation, eigenvalue problems, algebraic equations, differential equations, statistics and many other classes of problems."
   ]
  },
  {
   "cell_type": "code",
   "execution_count": null,
   "metadata": {},
   "outputs": [],
   "source": [
    "import scipy as sp"
   ]
  },
  {
   "cell_type": "markdown",
   "metadata": {},
   "source": [
    "Quoting the Pandas website:\n",
    "> pandas is an open source, BSD-licensed library providing high-performance, easy-to-use data structures and data analysis tools for the Python programming language.\n",
    "\n",
    "I primarily use it for import formatting."
   ]
  },
  {
   "cell_type": "code",
   "execution_count": null,
   "metadata": {},
   "outputs": [],
   "source": [
    "import pandas as pd"
   ]
  },
  {
   "cell_type": "markdown",
   "metadata": {},
   "source": [
    "Quoting the Python Image Library (PIL) website:\n",
    "> The Python Imaging Library adds image processing capabilities to your Python interpreter.\n",
    "\n",
    "and the SciKit Image website\n",
    "> `scikit-image` is a collection of algorithms for image processing."
   ]
  },
  {
   "cell_type": "code",
   "execution_count": null,
   "metadata": {},
   "outputs": [],
   "source": [
    "import PIL\n",
    "import skimage"
   ]
  },
  {
   "cell_type": "markdown",
   "metadata": {},
   "source": [
    "Numba performs function compilization.  It creates optimized C code on the \"first exposure\" of the function to a set of input types.\n",
    "\n",
    "Simply modify the function with `@njit`, which stands for \"No python, Just In Time\" compilation.  Speed ups are on the order of 40x.\n",
    "\n",
    "Note: function must only include Numpy and basic Python such as lists, dictionaries, sets, etc.  No custom classes."
   ]
  },
  {
   "cell_type": "code",
   "execution_count": null,
   "metadata": {},
   "outputs": [],
   "source": [
    "from numba import njit"
   ]
  },
  {
   "cell_type": "code",
   "execution_count": null,
   "metadata": {},
   "outputs": [],
   "source": [
    "# @njit\n",
    "# def F(M):\n",
    "#     return M**2 + M"
   ]
  },
  {
   "cell_type": "code",
   "execution_count": null,
   "metadata": {},
   "outputs": [],
   "source": [
    "import sympy as sp\n",
    "# sp.init_printing(pretty_print=True)\n",
    "# sp.init_printing(pretty_print=False)"
   ]
  },
  {
   "cell_type": "markdown",
   "metadata": {},
   "source": [
    "Pint is a package which allows for units in basic mathematical processing.  It also supports standard error propagation."
   ]
  },
  {
   "cell_type": "code",
   "execution_count": null,
   "metadata": {},
   "outputs": [],
   "source": [
    "import pint"
   ]
  },
  {
   "cell_type": "code",
   "execution_count": null,
   "metadata": {},
   "outputs": [],
   "source": [
    "from pint import UnitRegistry\n",
    "ureg = UnitRegistry()"
   ]
  },
  {
   "cell_type": "code",
   "execution_count": null,
   "metadata": {},
   "outputs": [],
   "source": [
    "# d1 = 140.*ureg('thou')\n",
    "# d2 = 0.891*ureg('mm')\n",
    "# dTot = d1 + d2\n",
    "# dTot.to('um')"
   ]
  },
  {
   "cell_type": "code",
   "execution_count": null,
   "metadata": {},
   "outputs": [],
   "source": [
    "# del(d1, d2, dTot)"
   ]
  },
  {
   "cell_type": "code",
   "execution_count": null,
   "metadata": {},
   "outputs": [],
   "source": [
    "# R1 = (130*ureg('ohm')).plus_minus(0.05, relative=True)\n",
    "# print(R1)\n",
    "# R2 = (150*ureg('ohm')).plus_minus(0.05, relative=True)\n",
    "# print(R2)\n",
    "# VIn = (10*ureg('V')).plus_minus(0.005)\n",
    "# print(VIn*R1/(R1+R2))"
   ]
  },
  {
   "cell_type": "code",
   "execution_count": null,
   "metadata": {},
   "outputs": [],
   "source": [
    "# del(R1, R2, VIn)"
   ]
  },
  {
   "cell_type": "markdown",
   "metadata": {
    "tags": []
   },
   "source": [
    "### Plotting"
   ]
  },
  {
   "cell_type": "markdown",
   "metadata": {},
   "source": [
    "#### Bokeh"
   ]
  },
  {
   "cell_type": "code",
   "execution_count": null,
   "metadata": {},
   "outputs": [],
   "source": [
    "import numpy as np"
   ]
  },
  {
   "cell_type": "code",
   "execution_count": null,
   "metadata": {},
   "outputs": [],
   "source": [
    "import bokeh\n",
    "from bokeh.io import output_notebook, export_png\n",
    "from bokeh.plotting import figure, show\n",
    "output_notebook()\n",
    "bokeh.io.curdoc().theme = 'dark_minimal'"
   ]
  },
  {
   "cell_type": "code",
   "execution_count": null,
   "metadata": {},
   "outputs": [],
   "source": [
    "# ts = np.linspace(0, 4, num=300)\n",
    "# xs = 5.0 * ts\n",
    "# ys = -9.8*ts**2 + 50*ts + 0"
   ]
  },
  {
   "cell_type": "code",
   "execution_count": null,
   "metadata": {},
   "outputs": [],
   "source": [
    "# fig = figure(x_range=(min(xs), max(xs)), y_range=(min(ys), max(ys)), \n",
    "#              plot_width=800, plot_height=400,\n",
    "#              title='Trajectory')\n",
    "# fig.xaxis.axis_label = \"x (m)\"\n",
    "# fig.yaxis.axis_label = \"y (m)\"\n",
    "# fig.line(x=xs, y=ys)\n",
    "# show(fig)"
   ]
  },
  {
   "cell_type": "code",
   "execution_count": null,
   "metadata": {},
   "outputs": [],
   "source": [
    "# fig.background_fill_color = None\n",
    "# fig.border_fill_color = None\n",
    "# export_png(fig, filename=\"fig.png\")"
   ]
  },
  {
   "cell_type": "markdown",
   "metadata": {},
   "source": [
    "### Matplotlib"
   ]
  },
  {
   "cell_type": "code",
   "execution_count": null,
   "metadata": {},
   "outputs": [],
   "source": [
    "import matplotlib.pyplot as plt"
   ]
  },
  {
   "cell_type": "code",
   "execution_count": null,
   "metadata": {},
   "outputs": [],
   "source": [
    "plt.style.use('dark_background')"
   ]
  },
  {
   "cell_type": "code",
   "execution_count": null,
   "metadata": {},
   "outputs": [],
   "source": [
    "# xs = np.linspace(0, 10, 100)\n",
    "# ys = 4 + 2*np.sin(2*xs)"
   ]
  },
  {
   "cell_type": "code",
   "execution_count": null,
   "metadata": {},
   "outputs": [],
   "source": [
    "# plt.figure()\n",
    "# plt.plot(xs, ys-1)\n",
    "# plt.plot(xs, ys)\n",
    "# plt.plot(xs, ys+1)\n",
    "# plt.show()"
   ]
  },
  {
   "cell_type": "markdown",
   "metadata": {
    "heading_collapsed": "true",
    "tags": []
   },
   "source": [
    "## Custom Imports"
   ]
  },
  {
   "cell_type": "markdown",
   "metadata": {},
   "source": [
    "Logger is a module I wrote to aid in debugging complex code.  Indenting of special print statements is handeled automatically so one can easily see nested loops."
   ]
  },
  {
   "cell_type": "code",
   "execution_count": null,
   "metadata": {},
   "outputs": [],
   "source": [
    "from Logger import Logger"
   ]
  },
  {
   "cell_type": "code",
   "execution_count": null,
   "metadata": {},
   "outputs": [],
   "source": [
    "from UtilityMath import (plotComplexArray, \n",
    "                         RandomComplexCircularMatrix, RandomComplexGaussianMatrix,\n",
    "                         PolarPlot,\n",
    "                         RescaleToUnitary,\n",
    "                         ReIm,\n",
    "                         MatrixSqError, MatrixError, MatrixErrorNormalized)"
   ]
  },
  {
   "cell_type": "code",
   "execution_count": null,
   "metadata": {},
   "outputs": [],
   "source": []
  }
 ],
 "metadata": {
  "interpreter": {
   "hash": "172a64f8fbf5e912fff9df3bb5ed396635f932701996a7224f71e02466f142fe"
  },
  "kernelspec": {
   "display_name": "Python 3.9.4 64-bit ('jupyterlab': conda)",
   "name": "python3"
  },
  "language_info": {
   "codemirror_mode": {
    "name": "ipython",
    "version": 3
   },
   "file_extension": ".py",
   "mimetype": "text/x-python",
   "name": "python",
   "nbconvert_exporter": "python",
   "pygments_lexer": "ipython3",
   "version": "3.9.4"
  },
  "toc-autonumbering": false,
  "toc-showcode": false,
  "toc-showmarkdowntxt": false,
  "toc-showtags": true
 },
 "nbformat": 4,
 "nbformat_minor": 4
}
